{
 "cells": [
  {
   "cell_type": "markdown",
   "id": "36737349-c949-4d64-9aa3-3767cbd02ad1",
   "metadata": {
    "editable": true,
    "slideshow": {
     "slide_type": ""
    },
    "tags": []
   },
   "source": [
    "# Map-reduce\n",
    "\n",
    "## Review\n",
    "\n",
    "We're building up to a multi-agent research assistant that ties together all of the modules from this course.\n",
    "\n",
    "To build this multi-agent assistant, we've been introducing a few LangGraph controllability topics.\n",
    "\n",
    "We just covered parallelization and sub-graphs.\n",
    "\n",
    "## Goals\n",
    "\n",
    "Now, we're going to cover [map reduce](https://docs.langchain.com/oss/python/langgraph/use-graph-api#map-reduce-and-the-send-api)."
   ]
  },
  {
   "cell_type": "code",
   "execution_count": 15,
   "id": "f24e95c8",
   "metadata": {
    "editable": true,
    "slideshow": {
     "slide_type": ""
    },
    "tags": []
   },
   "outputs": [],
   "source": [
    "%%capture --no-stderr\n",
    "%pip install -U langchain_openai langgraph"
   ]
  },
  {
   "cell_type": "code",
   "execution_count": 18,
   "id": "ff57cbf7",
   "metadata": {},
   "outputs": [],
   "source": [
    "import os, getpass\n",
    "\n",
    "def _set_env(var: str):\n",
    "    if not os.environ.get(var):\n",
    "        os.environ[var] = getpass.getpass(f\"{var}: \")\n",
    "\n",
    "_set_env(\"OPENAI_API_KEY\")"
   ]
  },
  {
   "cell_type": "markdown",
   "id": "cbcd868a",
   "metadata": {
    "editable": true,
    "slideshow": {
     "slide_type": ""
    },
    "tags": []
   },
   "source": [
    "We'll use [LangSmith](https://docs.langchain.com/langsmith/home) for [tracing](https://docs.langchain.com/langsmith/observability-concepts)."
   ]
  },
  {
   "cell_type": "code",
   "execution_count": 20,
   "id": "9fdc647f",
   "metadata": {
    "editable": true,
    "slideshow": {
     "slide_type": ""
    },
    "tags": []
   },
   "outputs": [],
   "source": [
    "_set_env(\"LANGSMITH_API_KEY\")\n",
    "os.environ[\"LANGSMITH_TRACING\"] = \"true\"\n",
    "os.environ[\"LANGSMITH_PROJECT\"] = \"langchain-academy\""
   ]
  },
  {
   "cell_type": "markdown",
   "id": "2bbe9b9f-4375-4bca-8e32-7d57cb861469",
   "metadata": {},
   "source": [
    "## Problem\n",
    "\n",
    "Map-reduce operations are essential for efficient task decomposition and parallel processing. \n",
    "\n",
    "It has two phases:\n",
    "\n",
    "(1) `Map` - Break a task into smaller sub-tasks, processing each sub-task in parallel.\n",
    "\n",
    "(2) `Reduce` - Aggregate the results across all of the completed, parallelized sub-tasks.\n",
    "\n",
    "Let's design a system that will do two things:\n",
    "\n",
    "(1) `Map` - Create a set of jokes about a topic.\n",
    "\n",
    "(2) `Reduce` - Pick the best joke from the list.\n",
    "\n",
    "We'll use an LLM to do the job generation and selection."
   ]
  },
  {
   "cell_type": "code",
   "execution_count": null,
   "id": "994cf903-1ed6-4ae2-b32a-7891a2808f81",
   "metadata": {},
   "outputs": [],
   "source": [
    "from langchain_openai import ChatOpenAI\n",
    "\n",
    "# Prompts we will use\n",
    "subjects_prompt = \"\"\"Generate a list of 4 sub-topics that are all related to this overall topic: {topic}.\"\"\"\n",
    "trivia_prompt = \"\"\"Generate a  trivia about {subject}\"\"\"\n",
    "best_trivia_prompt = \"\"\"Below are a bunch of trivia about {topic}. Select the best one! Return the ID of the best one, starting 0 as the ID for the first trivia. Trivias: \\n\\n  {trivias}\"\"\"\n",
    "\n",
    "# LLM\n",
    "model = ChatOpenAI(model=\"gpt-4o\", temperature=0) "
   ]
  },
  {
   "cell_type": "markdown",
   "id": "f3b883cc-3469-4e96-b1a4-deadf7bf3ce5",
   "metadata": {},
   "source": [
    "## State\n",
    "\n",
    "### Parallelizing joke generation\n",
    "\n",
    "First, let's define the entry point of the graph that will:\n",
    "\n",
    "* Take a user input topic\n",
    "* Produce a list of joke topics from it\n",
    "* Send each joke topic to our above joke generation node\n",
    "\n",
    "Our state has a `jokes` key, which will accumulate jokes from parallelized joke generation"
   ]
  },
  {
   "cell_type": "code",
   "execution_count": 22,
   "id": "099218ca-ee78-4291-95a1-87ee61382e3b",
   "metadata": {},
   "outputs": [],
   "source": [
    "import operator\n",
    "from typing import Annotated\n",
    "from typing_extensions import TypedDict\n",
    "from pydantic import BaseModel\n",
    "\n",
    "class Subjects(BaseModel):\n",
    "    subjects: list[str]\n",
    "\n",
    "class BestTrivia(BaseModel):\n",
    "    id: int\n",
    "    \n",
    "class OverallState(TypedDict):\n",
    "    topic: str\n",
    "    subjects: list\n",
    "    trivias: Annotated[list, operator.add]\n",
    "    best_selected_trivia: str"
   ]
  },
  {
   "cell_type": "markdown",
   "id": "c7176d1c-4a88-4b0f-a960-ee04a45279bd",
   "metadata": {},
   "source": [
    "Generate subjects for jokes."
   ]
  },
  {
   "cell_type": "code",
   "execution_count": 24,
   "id": "45010efd-ad31-4daa-b77e-aaec79ef0309",
   "metadata": {},
   "outputs": [],
   "source": [
    "def generate_topics(state: OverallState):\n",
    "    prompt = subjects_prompt.format(topic=state[\"topic\"])\n",
    "    response = model.with_structured_output(Subjects).invoke(prompt)\n",
    "    return {\"subjects\": response.subjects}"
   ]
  },
  {
   "cell_type": "markdown",
   "id": "e5296bb0-c163-4e5c-8181-1e305b37442a",
   "metadata": {
    "editable": true,
    "slideshow": {
     "slide_type": ""
    },
    "tags": []
   },
   "source": [
    "Here is the magic: we use the  [Send](https://docs.langchain.com/oss/python/langgraph/graph-api/#send) to create a joke for each subject.\n",
    "\n",
    "This is very useful! It can automatically parallelize joke generation for any number of subjects.\n",
    "\n",
    "* `generate_joke`: the name of the node in the graph\n",
    "* `{\"subject\": s`}: the state to send\n",
    "\n",
    "`Send` allow you to pass any state that you want to `generate_joke`! It does not have to align with `OverallState`.\n",
    "\n",
    "In this case, `generate_joke` is using its own internal state, and we can populate this via `Send`."
   ]
  },
  {
   "cell_type": "code",
   "execution_count": 25,
   "id": "bc83e575-11f6-41a9-990a-adb571bcda06",
   "metadata": {
    "editable": true,
    "slideshow": {
     "slide_type": ""
    },
    "tags": []
   },
   "outputs": [],
   "source": [
    "from langgraph.types import Send\n",
    "def continue_to_trivias(state: OverallState):\n",
    "    return [Send(\"generate_trivia\", {\"subject\": s}) for s in state[\"subjects\"]]"
   ]
  },
  {
   "cell_type": "markdown",
   "id": "9847192d-d358-411e-90c0-f06be0738717",
   "metadata": {},
   "source": [
    "### Joke generation (map)\n",
    "\n",
    "Now, we just define a node that will create our jokes, `generate_joke`!\n",
    "\n",
    "We write them back out to `jokes` in `OverallState`! \n",
    "\n",
    "This key has a reducer that will combine lists."
   ]
  },
  {
   "cell_type": "code",
   "execution_count": 27,
   "id": "bcddc567-73d3-4fb3-bfc5-1bea538f2aab",
   "metadata": {},
   "outputs": [],
   "source": [
    "class TriviaState(TypedDict):\n",
    "    subject: str\n",
    "\n",
    "class Trivia(BaseModel):\n",
    "    trivia: str\n",
    "\n",
    "def generate_trivia(state: TriviaState):\n",
    "    prompt = trivia_prompt.format(subject=state[\"subject\"])\n",
    "    response = model.with_structured_output(Trivia).invoke(prompt)\n",
    "    return {\"trivias\": [response.trivia]}"
   ]
  },
  {
   "cell_type": "markdown",
   "id": "02960657-d174-4076-99a8-b3f9eea015f4",
   "metadata": {},
   "source": [
    "### Best joke selection (reduce)\n",
    "\n",
    "Now, we add logic to pick the best joke."
   ]
  },
  {
   "cell_type": "code",
   "execution_count": 29,
   "id": "8d672870-75e3-4307-bda0-c41a86cbbaff",
   "metadata": {},
   "outputs": [],
   "source": [
    "def best_trivia(state: OverallState):\n",
    "    trivias = \"\\n\\n\".join(state[\"trivias\"])\n",
    "    prompt = best_trivia_prompt.format(topic=state[\"topic\"], trivias=trivias)\n",
    "    response = model.with_structured_output(BestTrivia).invoke(prompt)\n",
    "    return {\"best_selected_trivia\": state[\"trivias\"][response.id]}"
   ]
  },
  {
   "cell_type": "markdown",
   "id": "837cd12e-5bff-426e-97f4-c774df998cfb",
   "metadata": {},
   "source": [
    "## Compile"
   ]
  },
  {
   "cell_type": "code",
   "execution_count": 31,
   "id": "2ae6be4b-144e-483c-88ad-ce86d6477a0d",
   "metadata": {},
   "outputs": [
    {
     "data": {
      "image/png": "[encoded data removed]",
      "text/plain": [
       "<IPython.core.display.Image object>"
      ]
     },
     "execution_count": 31,
     "metadata": {},
     "output_type": "execute_result"
    }
   ],
   "source": [
    "from IPython.display import Image\n",
    "from langgraph.graph import END, StateGraph, START\n",
    "\n",
    "# Construct the graph: here we put everything together to construct our graph\n",
    "graph = StateGraph(OverallState)\n",
    "graph.add_node(\"generate_topics\", generate_topics)\n",
    "graph.add_node(\"generate_trivia\", generate_trivia)\n",
    "graph.add_node(\"best_trivia\", best_trivia)\n",
    "graph.add_edge(START, \"generate_topics\")\n",
    "graph.add_conditional_edges(\"generate_topics\", continue_to_trivias, [\"generate_trivia\"])\n",
    "graph.add_edge(\"generate_trivia\", \"best_trivia\")\n",
    "graph.add_edge(\"best_trivia\", END)\n",
    "\n",
    "# Compile the graph\n",
    "app = graph.compile()\n",
    "Image(app.get_graph().draw_mermaid_png())"
   ]
  },
  {
   "cell_type": "code",
   "execution_count": 32,
   "id": "e21dc7c9-0add-4125-be76-af701adb874a",
   "metadata": {},
   "outputs": [
    {
     "name": "stdout",
     "output_type": "stream",
     "text": [
      "{'generate_topics': {'subjects': ['Quantum Mechanics', 'Genetic Engineering', 'Renewable Energy Technologies']}}\n",
      "{'generate_trivia': {'trivias': [\"### Quantum Mechanics Trivia: The Curious Case of Schrödinger's Cat\\n\\n**Did you know?**\\n\\nOne of the most famous thought experiments in quantum mechanics is Schrödinger's Cat, proposed by Austrian physicist Erwin Schrödinger in 1935. This paradox illustrates the concept of superposition, a fundamental principle of quantum mechanics.\\n\\n**The Experiment:**\\n- Imagine a cat placed inside a sealed box with a radioactive atom, a Geiger counter, a vial of poison, and a hammer.\\n- If the Geiger counter detects radiation (i.e., the atom decays), it triggers the hammer to break the vial, releasing the poison and killing the cat.\\n- If no radiation is detected, the cat remains alive.\\n\\n**The Paradox:**\\n- According to quantum mechanics, until the box is opened and observed, the cat is simultaneously alive and dead.\\n- This is because the atom exists in a superposition of decayed and non-decayed states, leading to the cat being in a superposition of alive and dead states.\\n\\n**Why It Matters:**\\n- Schrödinger's Cat highlights the peculiar nature of quantum superposition and the role of the observer in determining the state of a quantum system.\\n- It challenges our classical intuition about reality and has sparked numerous debates and interpretations in the field of quantum mechanics.\\n\\n**Fun Fact:**\\n- Schrödinger's Cat was initially intended to criticize the Copenhagen interpretation of quantum mechanics, which suggests that a quantum system remains in superposition until it is observed.\\n\\n**In Pop Culture:**\\n- The thought experiment has permeated popular culture, appearing in TV shows, movies, and literature, often symbolizing the complexity and mystery of quantum mechanics.\\n\\nSo, next time you hear about Schrödinger's Cat, remember it's not just a quirky story but a profound illustration of the strange and fascinating world of quantum mechanics!\"]}}\n",
      "{'generate_trivia': {'trivias': ['### Did You Know?\\n\\n**The First Genetically Engineered Organism**\\n\\nThe first genetically engineered organism was a bacterium created in 1973 by biochemists Herbert Boyer and Stanley Cohen. They inserted a gene from an African clawed frog into an E. coli bacterium, marking the dawn of recombinant DNA technology. This groundbreaking experiment laid the foundation for modern genetic engineering, leading to advancements in medicine, agriculture, and biotechnology.\\n\\n**Fun Fact:**\\n- **Herbert Boyer** later co-founded Genentech, one of the first biotechnology companies, which played a pivotal role in the development of synthetic insulin, revolutionizing diabetes treatment.\\n\\n**Impact on Agriculture:**\\n- Genetic engineering has significantly impacted agriculture, with genetically modified crops like Bt corn and Roundup Ready soybeans increasing yields and reducing pesticide use.\\n\\n**Ethical Considerations:**\\n- The advent of genetic engineering has sparked ethical debates, particularly concerning the modification of human embryos and the potential for \"designer babies.\" These discussions continue to shape policies and public perception of genetic technologies.\\n\\n**CRISPR Revolution:**\\n- The discovery of CRISPR-Cas9, a powerful gene-editing tool, has revolutionized genetic engineering, allowing for precise modifications in DNA. This technology holds promise for treating genetic disorders, but also raises ethical questions about its potential misuse.\\n\\n**In Popular Culture:**\\n- Genetic engineering has been a popular theme in science fiction, with movies like \"Jurassic Park\" and \"Gattaca\" exploring its potential and ethical implications.\\n\\n**Trivia Challenge:**\\n- Can you name the first genetically modified food approved for human consumption? \\n  - **Answer:** The Flavr Savr tomato, approved by the FDA in 1994, was the first genetically modified food available to consumers, designed to have a longer shelf life by delaying ripening.']}}\n",
      "{'generate_trivia': {'trivias': [\"### Did You Know?\\n\\n**The World's First Solar-Powered City**\\n\\nIn 2015, the city of Masdar in the United Arab Emirates became the world's first city to be powered entirely by renewable energy. Masdar City is a pioneering urban development that aims to be one of the most sustainable cities in the world. It utilizes a combination of solar power, wind energy, and other renewable technologies to meet its energy needs.\\n\\n**Key Features of Masdar City:**\\n\\n- **Solar Power Dominance:** The city is equipped with a 10-megawatt solar power plant and additional rooftop solar panels, providing a significant portion of its energy.\\n  \\n- **Wind Towers:** Inspired by traditional Arabic architecture, these towers capture cooler upper-level winds and direct them downwards to naturally cool the city streets.\\n  \\n- **Energy-Efficient Buildings:** Buildings in Masdar City are designed to consume 40% less energy than conventional buildings, thanks to innovative design and materials.\\n  \\n- **Car-Free Zone:** The city encourages walking and cycling, with electric vehicles and a personal rapid transit system providing transportation within the city.\\n\\n**Impact and Inspiration:**\\n\\nMasdar City serves as a living laboratory for sustainable urban development, inspiring cities worldwide to adopt renewable energy technologies and sustainable practices. It demonstrates how cities can reduce their carbon footprint while maintaining a high quality of life for their residents.\\n\\n**Fun Fact:**\\n\\nThe city is also home to the Masdar Institute of Science and Technology, which collaborates with the Massachusetts Institute of Technology (MIT) to advance research in renewable energy and sustainability. This partnership has led to numerous innovations in clean technology and energy efficiency.\\n\\nMasdar City is a testament to the potential of renewable energy technologies in creating sustainable urban environments, paving the way for a greener future.\"]}}\n",
      "{'best_trivia': {'best_selected_trivia': \"### Quantum Mechanics Trivia: The Curious Case of Schrödinger's Cat\\n\\n**Did you know?**\\n\\nOne of the most famous thought experiments in quantum mechanics is Schrödinger's Cat, proposed by Austrian physicist Erwin Schrödinger in 1935. This paradox illustrates the concept of superposition, a fundamental principle of quantum mechanics.\\n\\n**The Experiment:**\\n- Imagine a cat placed inside a sealed box with a radioactive atom, a Geiger counter, a vial of poison, and a hammer.\\n- If the Geiger counter detects radiation (i.e., the atom decays), it triggers the hammer to break the vial, releasing the poison and killing the cat.\\n- If no radiation is detected, the cat remains alive.\\n\\n**The Paradox:**\\n- According to quantum mechanics, until the box is opened and observed, the cat is simultaneously alive and dead.\\n- This is because the atom exists in a superposition of decayed and non-decayed states, leading to the cat being in a superposition of alive and dead states.\\n\\n**Why It Matters:**\\n- Schrödinger's Cat highlights the peculiar nature of quantum superposition and the role of the observer in determining the state of a quantum system.\\n- It challenges our classical intuition about reality and has sparked numerous debates and interpretations in the field of quantum mechanics.\\n\\n**Fun Fact:**\\n- Schrödinger's Cat was initially intended to criticize the Copenhagen interpretation of quantum mechanics, which suggests that a quantum system remains in superposition until it is observed.\\n\\n**In Pop Culture:**\\n- The thought experiment has permeated popular culture, appearing in TV shows, movies, and literature, often symbolizing the complexity and mystery of quantum mechanics.\\n\\nSo, next time you hear about Schrödinger's Cat, remember it's not just a quirky story but a profound illustration of the strange and fascinating world of quantum mechanics!\"}}\n"
     ]
    }
   ],
   "source": [
    "# Call the graph: here we call it to generate a list of jokes\n",
    "for s in app.stream({\"topic\": \"science\"}):\n",
    "    print(s)"
   ]
  },
  {
   "attachments": {},
   "cell_type": "markdown",
   "id": "2a96517e-77ab-46e2-95e2-79168c044e9c",
   "metadata": {},
   "source": [
    "## Studio\n",
    "\n",
    "**⚠️ Notice**\n",
    "\n",
    "Since filming these videos, we've updated Studio so that it can now be run locally and accessed through your browser. This is the preferred way to run Studio instead of using the Desktop App shown in the video. It is now called _LangSmith Studio_ instead of _LangGraph Studio_. Detailed setup instructions are available in the \"Getting Setup\" guide at the start of the course. You can find a description of Studio [here](https://docs.langchain.com/langsmith/studio), and specific details for local deployment [here](https://docs.langchain.com/langsmith/quick-start-studio#local-development-server).  \n",
    "To start the local development server, run the following command in your terminal in the `/studio` directory in this module:\n",
    "\n",
    "```\n",
    "langgraph dev\n",
    "```\n",
    "\n",
    "You should see the following output:\n",
    "```\n",
    "- 🚀 API: http://127.0.0.1:2024\n",
    "- 🎨 Studio UI: https://smith.langchain.com/studio/?baseUrl=http://127.0.0.1:2024\n",
    "- 📚 API Docs: http://127.0.0.1:2024/docs\n",
    "```\n",
    "\n",
    "Open your browser and navigate to the **Studio UI** URL shown above.\n",
    "\n",
    "Let's load the above graph in the Studio UI, which uses `module-4/studio/map_reduce.py` set in `module-4/studio/langgraph.json`."
   ]
  }
 ],
 "metadata": {
  "kernelspec": {
   "display_name": "langsmith_env",
   "language": "python",
   "name": "python3"
  },
  "language_info": {
   "codemirror_mode": {
    "name": "ipython",
    "version": 3
   },
   "file_extension": ".py",
   "mimetype": "text/x-python",
   "name": "python",
   "nbconvert_exporter": "python",
   "pygments_lexer": "ipython3",
   "version": "3.10.18"
  }
 },
 "nbformat": 4,
 "nbformat_minor": 5
}
